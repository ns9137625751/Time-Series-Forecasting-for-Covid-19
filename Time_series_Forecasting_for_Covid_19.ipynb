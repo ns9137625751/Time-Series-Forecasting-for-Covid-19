{
  "nbformat": 4,
  "nbformat_minor": 0,
  "metadata": {
    "colab": {
      "name": "Time series Forecasting for Covid-19.ipynb",
      "provenance": [],
      "collapsed_sections": []
    },
    "kernelspec": {
      "name": "python3",
      "display_name": "Python 3"
    }
  },
  "cells": [
    {
      "cell_type": "markdown",
      "metadata": {
        "id": "kMXdTfywtNKO",
        "colab_type": "text"
      },
      "source": [
        "**Time Series forecasting using Python.**\n",
        " \n",
        "Time series analysis comprises methods for analyzing time series data in order to extract meaningful statistics and other characteristics of the data. Time series forecasting is the use of a model to predict future values based on previously observed values.\n",
        "\n",
        "Time series are widely used for non-stationary data, like economic, weather, stock price,retail sales etc. Here we are trying to forecast the upcomming number of Covid-19 postitive cases in india."
      ]
    },
    {
      "cell_type": "code",
      "metadata": {
        "id": "gjjg5Ng7PXYE",
        "colab_type": "code",
        "outputId": "92efc51a-7de5-4ec3-f419-d562cf5791a3",
        "colab": {
          "base_uri": "https://localhost:8080/",
          "height": 356
        }
      },
      "source": [
        "import pandas as pd\n",
        "df = pd.read_csv('http://api.covid19india.org/states_daily_csv/confirmed.csv',parse_dates=['date'],index_col='date')\n",
        "df.tail()"
      ],
      "execution_count": 0,
      "outputs": [
        {
          "output_type": "execute_result",
          "data": {
            "text/html": [
              "<div>\n",
              "<style scoped>\n",
              "    .dataframe tbody tr th:only-of-type {\n",
              "        vertical-align: middle;\n",
              "    }\n",
              "\n",
              "    .dataframe tbody tr th {\n",
              "        vertical-align: top;\n",
              "    }\n",
              "\n",
              "    .dataframe thead th {\n",
              "        text-align: right;\n",
              "    }\n",
              "</style>\n",
              "<table border=\"1\" class=\"dataframe\">\n",
              "  <thead>\n",
              "    <tr style=\"text-align: right;\">\n",
              "      <th></th>\n",
              "      <th>TT</th>\n",
              "      <th>AN</th>\n",
              "      <th>AP</th>\n",
              "      <th>AR</th>\n",
              "      <th>AS</th>\n",
              "      <th>BR</th>\n",
              "      <th>CH</th>\n",
              "      <th>CT</th>\n",
              "      <th>DD</th>\n",
              "      <th>DL</th>\n",
              "      <th>DN</th>\n",
              "      <th>GA</th>\n",
              "      <th>GJ</th>\n",
              "      <th>HP</th>\n",
              "      <th>HR</th>\n",
              "      <th>JH</th>\n",
              "      <th>JK</th>\n",
              "      <th>KA</th>\n",
              "      <th>KL</th>\n",
              "      <th>LA</th>\n",
              "      <th>LD</th>\n",
              "      <th>MH</th>\n",
              "      <th>ML</th>\n",
              "      <th>MN</th>\n",
              "      <th>MP</th>\n",
              "      <th>MZ</th>\n",
              "      <th>NL</th>\n",
              "      <th>OR</th>\n",
              "      <th>PB</th>\n",
              "      <th>PY</th>\n",
              "      <th>RJ</th>\n",
              "      <th>SK</th>\n",
              "      <th>TG</th>\n",
              "      <th>TN</th>\n",
              "      <th>TR</th>\n",
              "      <th>UP</th>\n",
              "      <th>UT</th>\n",
              "      <th>WB</th>\n",
              "      <th>Unnamed: 39</th>\n",
              "    </tr>\n",
              "    <tr>\n",
              "      <th>date</th>\n",
              "      <th></th>\n",
              "      <th></th>\n",
              "      <th></th>\n",
              "      <th></th>\n",
              "      <th></th>\n",
              "      <th></th>\n",
              "      <th></th>\n",
              "      <th></th>\n",
              "      <th></th>\n",
              "      <th></th>\n",
              "      <th></th>\n",
              "      <th></th>\n",
              "      <th></th>\n",
              "      <th></th>\n",
              "      <th></th>\n",
              "      <th></th>\n",
              "      <th></th>\n",
              "      <th></th>\n",
              "      <th></th>\n",
              "      <th></th>\n",
              "      <th></th>\n",
              "      <th></th>\n",
              "      <th></th>\n",
              "      <th></th>\n",
              "      <th></th>\n",
              "      <th></th>\n",
              "      <th></th>\n",
              "      <th></th>\n",
              "      <th></th>\n",
              "      <th></th>\n",
              "      <th></th>\n",
              "      <th></th>\n",
              "      <th></th>\n",
              "      <th></th>\n",
              "      <th></th>\n",
              "      <th></th>\n",
              "      <th></th>\n",
              "      <th></th>\n",
              "      <th></th>\n",
              "    </tr>\n",
              "  </thead>\n",
              "  <tbody>\n",
              "    <tr>\n",
              "      <th>2020-04-14</th>\n",
              "      <td>1035</td>\n",
              "      <td>0</td>\n",
              "      <td>45</td>\n",
              "      <td>0</td>\n",
              "      <td>1</td>\n",
              "      <td>0</td>\n",
              "      <td>0</td>\n",
              "      <td>2</td>\n",
              "      <td>0</td>\n",
              "      <td>51</td>\n",
              "      <td>0</td>\n",
              "      <td>0</td>\n",
              "      <td>78</td>\n",
              "      <td>1</td>\n",
              "      <td>2</td>\n",
              "      <td>3</td>\n",
              "      <td>8</td>\n",
              "      <td>13</td>\n",
              "      <td>8</td>\n",
              "      <td>0</td>\n",
              "      <td>0</td>\n",
              "      <td>350</td>\n",
              "      <td>0</td>\n",
              "      <td>0</td>\n",
              "      <td>127.0</td>\n",
              "      <td>0</td>\n",
              "      <td>0</td>\n",
              "      <td>5</td>\n",
              "      <td>8</td>\n",
              "      <td>0</td>\n",
              "      <td>108</td>\n",
              "      <td>0</td>\n",
              "      <td>52</td>\n",
              "      <td>31</td>\n",
              "      <td>0</td>\n",
              "      <td>102</td>\n",
              "      <td>2</td>\n",
              "      <td>38</td>\n",
              "      <td>NaN</td>\n",
              "    </tr>\n",
              "    <tr>\n",
              "      <th>2020-04-15</th>\n",
              "      <td>882</td>\n",
              "      <td>0</td>\n",
              "      <td>41</td>\n",
              "      <td>0</td>\n",
              "      <td>0</td>\n",
              "      <td>6</td>\n",
              "      <td>0</td>\n",
              "      <td>0</td>\n",
              "      <td>0</td>\n",
              "      <td>17</td>\n",
              "      <td>0</td>\n",
              "      <td>0</td>\n",
              "      <td>116</td>\n",
              "      <td>2</td>\n",
              "      <td>6</td>\n",
              "      <td>1</td>\n",
              "      <td>22</td>\n",
              "      <td>19</td>\n",
              "      <td>1</td>\n",
              "      <td>1</td>\n",
              "      <td>0</td>\n",
              "      <td>232</td>\n",
              "      <td>6</td>\n",
              "      <td>0</td>\n",
              "      <td>197.0</td>\n",
              "      <td>0</td>\n",
              "      <td>0</td>\n",
              "      <td>0</td>\n",
              "      <td>2</td>\n",
              "      <td>0</td>\n",
              "      <td>71</td>\n",
              "      <td>0</td>\n",
              "      <td>6</td>\n",
              "      <td>38</td>\n",
              "      <td>0</td>\n",
              "      <td>75</td>\n",
              "      <td>0</td>\n",
              "      <td>23</td>\n",
              "      <td>NaN</td>\n",
              "    </tr>\n",
              "    <tr>\n",
              "      <th>2020-04-16</th>\n",
              "      <td>1062</td>\n",
              "      <td>0</td>\n",
              "      <td>9</td>\n",
              "      <td>0</td>\n",
              "      <td>2</td>\n",
              "      <td>11</td>\n",
              "      <td>0</td>\n",
              "      <td>3</td>\n",
              "      <td>0</td>\n",
              "      <td>62</td>\n",
              "      <td>0</td>\n",
              "      <td>0</td>\n",
              "      <td>163</td>\n",
              "      <td>0</td>\n",
              "      <td>11</td>\n",
              "      <td>1</td>\n",
              "      <td>14</td>\n",
              "      <td>36</td>\n",
              "      <td>7</td>\n",
              "      <td>0</td>\n",
              "      <td>0</td>\n",
              "      <td>286</td>\n",
              "      <td>2</td>\n",
              "      <td>0</td>\n",
              "      <td>226.0</td>\n",
              "      <td>0</td>\n",
              "      <td>0</td>\n",
              "      <td>0</td>\n",
              "      <td>11</td>\n",
              "      <td>0</td>\n",
              "      <td>55</td>\n",
              "      <td>0</td>\n",
              "      <td>50</td>\n",
              "      <td>25</td>\n",
              "      <td>0</td>\n",
              "      <td>70</td>\n",
              "      <td>0</td>\n",
              "      <td>18</td>\n",
              "      <td>NaN</td>\n",
              "    </tr>\n",
              "    <tr>\n",
              "      <th>2020-04-17</th>\n",
              "      <td>920</td>\n",
              "      <td>1</td>\n",
              "      <td>38</td>\n",
              "      <td>0</td>\n",
              "      <td>0</td>\n",
              "      <td>2</td>\n",
              "      <td>0</td>\n",
              "      <td>0</td>\n",
              "      <td>0</td>\n",
              "      <td>67</td>\n",
              "      <td>0</td>\n",
              "      <td>0</td>\n",
              "      <td>170</td>\n",
              "      <td>3</td>\n",
              "      <td>8</td>\n",
              "      <td>3</td>\n",
              "      <td>14</td>\n",
              "      <td>44</td>\n",
              "      <td>1</td>\n",
              "      <td>0</td>\n",
              "      <td>0</td>\n",
              "      <td>118</td>\n",
              "      <td>0</td>\n",
              "      <td>0</td>\n",
              "      <td>146.0</td>\n",
              "      <td>0</td>\n",
              "      <td>0</td>\n",
              "      <td>0</td>\n",
              "      <td>14</td>\n",
              "      <td>0</td>\n",
              "      <td>98</td>\n",
              "      <td>0</td>\n",
              "      <td>66</td>\n",
              "      <td>56</td>\n",
              "      <td>0</td>\n",
              "      <td>44</td>\n",
              "      <td>3</td>\n",
              "      <td>24</td>\n",
              "      <td>NaN</td>\n",
              "    </tr>\n",
              "    <tr>\n",
              "      <th>2020-04-18</th>\n",
              "      <td>1370</td>\n",
              "      <td>2</td>\n",
              "      <td>31</td>\n",
              "      <td>0</td>\n",
              "      <td>0</td>\n",
              "      <td>1</td>\n",
              "      <td>2</td>\n",
              "      <td>0</td>\n",
              "      <td>0</td>\n",
              "      <td>186</td>\n",
              "      <td>0</td>\n",
              "      <td>0</td>\n",
              "      <td>277</td>\n",
              "      <td>1</td>\n",
              "      <td>9</td>\n",
              "      <td>0</td>\n",
              "      <td>13</td>\n",
              "      <td>25</td>\n",
              "      <td>4</td>\n",
              "      <td>0</td>\n",
              "      <td>0</td>\n",
              "      <td>328</td>\n",
              "      <td>2</td>\n",
              "      <td>0</td>\n",
              "      <td>92.0</td>\n",
              "      <td>0</td>\n",
              "      <td>0</td>\n",
              "      <td>1</td>\n",
              "      <td>23</td>\n",
              "      <td>0</td>\n",
              "      <td>122</td>\n",
              "      <td>0</td>\n",
              "      <td>43</td>\n",
              "      <td>49</td>\n",
              "      <td>0</td>\n",
              "      <td>125</td>\n",
              "      <td>2</td>\n",
              "      <td>32</td>\n",
              "      <td>NaN</td>\n",
              "    </tr>\n",
              "  </tbody>\n",
              "</table>\n",
              "</div>"
            ],
            "text/plain": [
              "              TT  AN  AP  AR  AS  BR  CH  ...  TG  TN  TR   UP  UT  WB  Unnamed: 39\n",
              "date                                      ...                                      \n",
              "2020-04-14  1035   0  45   0   1   0   0  ...  52  31   0  102   2  38          NaN\n",
              "2020-04-15   882   0  41   0   0   6   0  ...   6  38   0   75   0  23          NaN\n",
              "2020-04-16  1062   0   9   0   2  11   0  ...  50  25   0   70   0  18          NaN\n",
              "2020-04-17   920   1  38   0   0   2   0  ...  66  56   0   44   3  24          NaN\n",
              "2020-04-18  1370   2  31   0   0   1   2  ...  43  49   0  125   2  32          NaN\n",
              "\n",
              "[5 rows x 39 columns]"
            ]
          },
          "metadata": {
            "tags": []
          },
          "execution_count": 1
        }
      ]
    },
    {
      "cell_type": "markdown",
      "metadata": {
        "id": "79UT72OvtwGe",
        "colab_type": "text"
      },
      "source": [
        "Here we are using data provided through API 'http://api.covid19india.org/states_daily_csv/confirmed.csv' . You can put this link into your web browser to have a look. \n",
        "\n",
        "We are importing this CSV file using pandas and setting index column as 'date' because the values will be forecasted according to this values.\n",
        "\n",
        "Data is stored in variable 'df'. **df.head()** shows first 5 rows of the file whereas **df.tail()** shows last 5."
      ]
    },
    {
      "cell_type": "code",
      "metadata": {
        "id": "xSQezkWyQTtD",
        "colab_type": "code",
        "colab": {}
      },
      "source": [
        "#cols = ['AN','AP',\t'AR',\t'AS',\t'BR',\t'CH',\t'CT',\t'DD',\t'DL',\t'DN',\t'GA',\t'GJ',\t'HP',\t'HR',\t'JH', 'JK',\t'KA',\t'KL',\t'LA',\t'LD',\t'MH',\t'ML',\t'MN',\t'MP',\t'MZ',\t'NL',\t'OR',\t'PB',\t'PY',\t'RJ',\t'SK',\t'TG',\t'TN',\t'TR',\t'UP',\t'UT',\t'WB']\n",
        "#df.drop(cols, axis=1, inplace=True)"
      ],
      "execution_count": 0,
      "outputs": []
    },
    {
      "cell_type": "markdown",
      "metadata": {
        "id": "SUc1asM1vWbl",
        "colab_type": "text"
      },
      "source": [
        "As we can see above, the file contains a 'date' column followed by a 'TT' which shows total number of confirmed cases on that perticular date. This is followed by statewise data.\n",
        "\n",
        "Here we are only intrested in total confirmed cases, so we can remove all state wise data. We can take names of all columns in a list. \n",
        "\n",
        "Using **df.drop()** we can drop columns, by passing cols as arguments.\n",
        "**axis** argument gives data about what we need to drop. **axis =0** stands for rows whereas **axis = 1** stands fror column.\n",
        "\n",
        "**inplace** tells wether the changes should be made to orignal df or not."
      ]
    },
    {
      "cell_type": "code",
      "metadata": {
        "id": "hoICLmWBStmV",
        "colab_type": "code",
        "outputId": "fc6aadd8-583e-4409-c15c-5b4ad4dbb581",
        "colab": {
          "base_uri": "https://localhost:8080/",
          "height": 123
        }
      },
      "source": [
        "import matplotlib.pyplot as plt\n",
        "\n",
        "def plot_df(df, x, y, title=\"\", xlabel='Date', ylabel='Confirmed', dpi=100):\n",
        "    plt.figure(figsize=(16,5), dpi=dpi)\n",
        "    plt.plot(x, y, color='tab:red')\n",
        "    plt.gca().set(title=title, xlabel=xlabel, ylabel=ylabel)\n",
        "    plt.show()\n",
        "\n",
        "plot_df(df, x=df.index, y=df.TT, title='Daily Confirmed') "
      ],
      "execution_count": 0,
      "outputs": [
        {
          "output_type": "display_data",
          "data": {
            "image/png": "[encoded data removed]",
            "text/plain": [
              "<Figure size 1600x500 with 1 Axes>"
            ]
          },
          "metadata": {
            "tags": [],
            "needs_background": "light"
          }
        }
      ]
    },
    {
      "cell_type": "markdown",
      "metadata": {
        "id": "Wv0VjPWOww1b",
        "colab_type": "text"
      },
      "source": [
        "Now before forecasting, first lets polt what we already have. We will use matplotlib's pyplot to plot our data. \n",
        "\n",
        "Lets create a function plot_df to do our work. Arguments passed are :\n",
        "\n",
        "**df** - our dataframe\n",
        "\n",
        "**x and y** -  values of x axis and y axis respectively. Here our values for x axis is **df.index** ( remember, we made 'date' column as index column above ) and for y axis is **df.TT** which is TT column of our dataframe.\n",
        "\n",
        "**xlabel and ylabel** - there are labels for our x and y axis respectively.\n",
        "\n",
        "**dpi** - used to set size of our graph ( try altering it by yourself ).\n",
        "\n",
        "**plt.gca()** - gca stands for 'get current axis' , plt. gca() to get a reference to the current axes, if you need to change the limits on the y-axis. **.set** method on gca is used to set x and y axis labels and titles .\n",
        "\n",
        "**plt.show** - displays the plotted graph."
      ]
    },
    {
      "cell_type": "code",
      "metadata": {
        "id": "GcbPM-snS5Rv",
        "colab_type": "code",
        "outputId": "6f31ab09-8f6d-4ee2-934a-b45b3cdc0794",
        "colab": {
          "base_uri": "https://localhost:8080/",
          "height": 464
        }
      },
      "source": [
        "from statsmodels.tsa.arima_model import ARIMA\n",
        "\n",
        "TT = df['TT']\n",
        "model = ARIMA(TT, order=(2,0,1))\n",
        "model_fit = model.fit(disp=False)\n",
        "# make prediction\n",
        "yhat = model_fit.predict(len(df), len(df))\n",
        "print(yhat)"
      ],
      "execution_count": 0,
      "outputs": [
        {
          "output_type": "stream",
          "text": [
            "/usr/local/lib/python3.6/dist-packages/statsmodels/tsa/base/tsa_model.py:165: ValueWarning: No frequency information was provided, so inferred frequency D will be used.\n",
            "  % freq, ValueWarning)\n"
          ],
          "name": "stderr"
        },
        {
          "output_type": "error",
          "ename": "ValueError",
          "evalue": "ignored",
          "traceback": [
            "\u001b[0;31m---------------------------------------------------------------------------\u001b[0m",
            "\u001b[0;31mValueError\u001b[0m                                Traceback (most recent call last)",
            "\u001b[0;32m<ipython-input-5-ca3838ca88bf>\u001b[0m in \u001b[0;36m<module>\u001b[0;34m()\u001b[0m\n\u001b[1;32m      3\u001b[0m \u001b[0mTT\u001b[0m \u001b[0;34m=\u001b[0m \u001b[0mdf\u001b[0m\u001b[0;34m[\u001b[0m\u001b[0;34m'TT'\u001b[0m\u001b[0;34m]\u001b[0m\u001b[0;34m\u001b[0m\u001b[0;34m\u001b[0m\u001b[0m\n\u001b[1;32m      4\u001b[0m \u001b[0mmodel\u001b[0m \u001b[0;34m=\u001b[0m \u001b[0mARIMA\u001b[0m\u001b[0;34m(\u001b[0m\u001b[0mTT\u001b[0m\u001b[0;34m,\u001b[0m \u001b[0morder\u001b[0m\u001b[0;34m=\u001b[0m\u001b[0;34m(\u001b[0m\u001b[0;36m2\u001b[0m\u001b[0;34m,\u001b[0m\u001b[0;36m0\u001b[0m\u001b[0;34m,\u001b[0m\u001b[0;36m1\u001b[0m\u001b[0;34m)\u001b[0m\u001b[0;34m)\u001b[0m\u001b[0;34m\u001b[0m\u001b[0;34m\u001b[0m\u001b[0m\n\u001b[0;32m----> 5\u001b[0;31m \u001b[0mmodel_fit\u001b[0m \u001b[0;34m=\u001b[0m \u001b[0mmodel\u001b[0m\u001b[0;34m.\u001b[0m\u001b[0mfit\u001b[0m\u001b[0;34m(\u001b[0m\u001b[0mdisp\u001b[0m\u001b[0;34m=\u001b[0m\u001b[0;32mFalse\u001b[0m\u001b[0;34m)\u001b[0m\u001b[0;34m\u001b[0m\u001b[0;34m\u001b[0m\u001b[0m\n\u001b[0m\u001b[1;32m      6\u001b[0m \u001b[0;31m# make prediction\u001b[0m\u001b[0;34m\u001b[0m\u001b[0;34m\u001b[0m\u001b[0;34m\u001b[0m\u001b[0m\n\u001b[1;32m      7\u001b[0m \u001b[0myhat\u001b[0m \u001b[0;34m=\u001b[0m \u001b[0mmodel_fit\u001b[0m\u001b[0;34m.\u001b[0m\u001b[0mpredict\u001b[0m\u001b[0;34m(\u001b[0m\u001b[0mlen\u001b[0m\u001b[0;34m(\u001b[0m\u001b[0mdf\u001b[0m\u001b[0;34m)\u001b[0m\u001b[0;34m,\u001b[0m \u001b[0mlen\u001b[0m\u001b[0;34m(\u001b[0m\u001b[0mdf\u001b[0m\u001b[0;34m)\u001b[0m\u001b[0;34m)\u001b[0m\u001b[0;34m\u001b[0m\u001b[0;34m\u001b[0m\u001b[0m\n",
            "\u001b[0;32m/usr/local/lib/python3.6/dist-packages/statsmodels/tsa/arima_model.py\u001b[0m in \u001b[0;36mfit\u001b[0;34m(self, start_params, trend, method, transparams, solver, maxiter, full_output, disp, callback, start_ar_lags, **kwargs)\u001b[0m\n\u001b[1;32m    936\u001b[0m         \u001b[0;32melse\u001b[0m\u001b[0;34m:\u001b[0m  \u001b[0;31m# estimate starting parameters\u001b[0m\u001b[0;34m\u001b[0m\u001b[0;34m\u001b[0m\u001b[0m\n\u001b[1;32m    937\u001b[0m             start_params = self._fit_start_params((k_ar, k_ma, k), method,\n\u001b[0;32m--> 938\u001b[0;31m                                                   start_ar_lags)\n\u001b[0m\u001b[1;32m    939\u001b[0m \u001b[0;34m\u001b[0m\u001b[0m\n\u001b[1;32m    940\u001b[0m         \u001b[0;32mif\u001b[0m \u001b[0mtransparams\u001b[0m\u001b[0;34m:\u001b[0m  \u001b[0;31m# transform initial parameters to ensure invertibility\u001b[0m\u001b[0;34m\u001b[0m\u001b[0;34m\u001b[0m\u001b[0m\n",
            "\u001b[0;32m/usr/local/lib/python3.6/dist-packages/statsmodels/tsa/arima_model.py\u001b[0m in \u001b[0;36m_fit_start_params\u001b[0;34m(self, order, method, start_ar_lags)\u001b[0m\n\u001b[1;32m    552\u001b[0m             \u001b[0mfunc\u001b[0m \u001b[0;34m=\u001b[0m \u001b[0;32mlambda\u001b[0m \u001b[0mparams\u001b[0m\u001b[0;34m:\u001b[0m \u001b[0;34m-\u001b[0m\u001b[0mself\u001b[0m\u001b[0;34m.\u001b[0m\u001b[0mloglike_css\u001b[0m\u001b[0;34m(\u001b[0m\u001b[0mparams\u001b[0m\u001b[0;34m)\u001b[0m\u001b[0;34m\u001b[0m\u001b[0;34m\u001b[0m\u001b[0m\n\u001b[1;32m    553\u001b[0m             \u001b[0;31m#start_params = [.1]*(k_ar+k_ma+k_exog) # different one for k?\u001b[0m\u001b[0;34m\u001b[0m\u001b[0;34m\u001b[0m\u001b[0;34m\u001b[0m\u001b[0m\n\u001b[0;32m--> 554\u001b[0;31m             \u001b[0mstart_params\u001b[0m \u001b[0;34m=\u001b[0m \u001b[0mself\u001b[0m\u001b[0;34m.\u001b[0m\u001b[0m_fit_start_params_hr\u001b[0m\u001b[0;34m(\u001b[0m\u001b[0morder\u001b[0m\u001b[0;34m,\u001b[0m \u001b[0mstart_ar_lags\u001b[0m\u001b[0;34m)\u001b[0m\u001b[0;34m\u001b[0m\u001b[0;34m\u001b[0m\u001b[0m\n\u001b[0m\u001b[1;32m    555\u001b[0m             \u001b[0;32mif\u001b[0m \u001b[0mself\u001b[0m\u001b[0;34m.\u001b[0m\u001b[0mtransparams\u001b[0m\u001b[0;34m:\u001b[0m\u001b[0;34m\u001b[0m\u001b[0;34m\u001b[0m\u001b[0m\n\u001b[1;32m    556\u001b[0m                 \u001b[0mstart_params\u001b[0m \u001b[0;34m=\u001b[0m \u001b[0mself\u001b[0m\u001b[0;34m.\u001b[0m\u001b[0m_invtransparams\u001b[0m\u001b[0;34m(\u001b[0m\u001b[0mstart_params\u001b[0m\u001b[0;34m)\u001b[0m\u001b[0;34m\u001b[0m\u001b[0;34m\u001b[0m\u001b[0m\n",
            "\u001b[0;32m/usr/local/lib/python3.6/dist-packages/statsmodels/tsa/arima_model.py\u001b[0m in \u001b[0;36m_fit_start_params_hr\u001b[0;34m(self, order, start_ar_lags)\u001b[0m\n\u001b[1;32m    531\u001b[0m         if p and not np.all(np.abs(np.roots(np.r_[1, -start_params[k:k + p]]\n\u001b[1;32m    532\u001b[0m                                             )) < 1):\n\u001b[0;32m--> 533\u001b[0;31m             raise ValueError(\"The computed initial AR coefficients are not \"\n\u001b[0m\u001b[1;32m    534\u001b[0m                              \u001b[0;34m\"stationary\\nYou should induce stationarity, \"\u001b[0m\u001b[0;34m\u001b[0m\u001b[0;34m\u001b[0m\u001b[0m\n\u001b[1;32m    535\u001b[0m                              \u001b[0;34m\"choose a different model order, or you can\\n\"\u001b[0m\u001b[0;34m\u001b[0m\u001b[0;34m\u001b[0m\u001b[0m\n",
            "\u001b[0;31mValueError\u001b[0m: The computed initial AR coefficients are not stationary\nYou should induce stationarity, choose a different model order, or you can\npass your own start_params."
          ]
        }
      ]
    },
    {
      "cell_type": "markdown",
      "metadata": {
        "id": "QgIixTulztdE",
        "colab_type": "text"
      },
      "source": [
        "Here we are using **ARIMA** model for forecasting.\n",
        "\n",
        "The Autoregressive Integrated Moving Average (ARIMA) method, It combines both Autoregression (AR) and Moving Average (MA) models as well as a differencing pre-processing step of the sequence to make the sequence stationary, called integration (I).\n",
        "\n",
        "*   AR: Autoregression. A model that uses the dependent relationship between an observation and some number of lagged observations.\n",
        "*   I: Integrated. The use of differencing of raw observations (e.g. subtracting an observation from an observation at the previous time step) in order to make the time series stationary.\n",
        "*   MA: Moving Average. A model that uses the dependency between an observation and a residual error from a moving average model applied to lagged observations.\n",
        "\n",
        "**Read different types of forecasting methods :** https://machinelearningmastery.com/time-series-forecasting-methods-in-python-cheat-sheet/\n",
        "\n",
        "\n",
        "The result of prediction is stored in variable 'yhat'.\n",
        "\n",
        "**ARIMA takes two arguments** \n",
        "\n",
        "**First** is the column whose value is to be forecasted. In our case it is 'TT' column of our data frame.\n",
        "\n",
        "**Second** argument is a tuple named 'order'. It takes three values :\n",
        "\n",
        "\n",
        "*   **p:** The number of lag observations included in the model, also called the lag order.\n",
        "*   **d:** The number of times that the raw observations are differenced, also called the degree of differencing.\n",
        "*   **q:** The size of the moving average window, also called the order of moving average.\n",
        "\n",
        "\n",
        "\n",
        "\n"
      ]
    },
    {
      "cell_type": "code",
      "metadata": {
        "id": "bUh60oUxTfhH",
        "colab_type": "code",
        "colab": {}
      },
      "source": [
        "yhat"
      ],
      "execution_count": 0,
      "outputs": []
    },
    {
      "cell_type": "markdown",
      "metadata": {
        "id": "0SBec1lO4Bwl",
        "colab_type": "text"
      },
      "source": [
        "Displaying content of 'yhat' shows date and prediction.\n",
        "Hence according to our model, around 938.55 cases will be repored on 2020-04-16."
      ]
    },
    {
      "cell_type": "code",
      "metadata": {
        "id": "MYMEX3dBTwc4",
        "colab_type": "code",
        "colab": {}
      },
      "source": [
        "'''p = d = q = range(0, 2)\n",
        "pdq = list(itertools.product(p, d, q))\n",
        "pdq'''"
      ],
      "execution_count": 0,
      "outputs": []
    },
    {
      "cell_type": "code",
      "metadata": {
        "id": "-lzoNkEXncaa",
        "colab_type": "code",
        "colab": {}
      },
      "source": [
        "'''mod = ARIMA(TT, order=(0,0,0))\n",
        "res = mod.fit()\n",
        "print(res.aic)\n",
        "mod = ARIMA(TT, order=(0,0,1))\n",
        "res = mod.fit()\n",
        "print(res.aic)\n",
        "mod = ARIMA(TT, order=(0,1,0))\n",
        "res = mod.fit()\n",
        "print(res.aic)\n",
        "mod = ARIMA(TT, order=(1,0,0))\n",
        "res = mod.fit()\n",
        "print(res.aic)'''"
      ],
      "execution_count": 0,
      "outputs": []
    },
    {
      "cell_type": "code",
      "metadata": {
        "id": "sCrOznLIpw-5",
        "colab_type": "code",
        "colab": {}
      },
      "source": [
        "for p in range(6):\n",
        "  for d in range(2):\n",
        "    for q in range(2):\n",
        "      if not((p == 1 and d == 1 and q == 1) or (p == 3 and d == 0 and q == 1) or (p == 4 and d == 1 and q == 1)):\n",
        "        mod = ARIMA(TT, order=(p,d,q))\n",
        "        res = mod.fit()\n",
        "        print('AIC for {} {} {} is {}'.format(p,d,q,res.aic))"
      ],
      "execution_count": 0,
      "outputs": []
    },
    {
      "cell_type": "markdown",
      "metadata": {
        "id": "Z8abeBk77Pvu",
        "colab_type": "text"
      },
      "source": [
        "The Akaike Information Critera (**AIC**) is a widely used measure of a statistical model. ... When comparing two models, the one with the **lower AIC is generally “better”. **\n",
        "\n",
        "Here we have found **AIC** for all the possible pairs of p,d,q."
      ]
    },
    {
      "cell_type": "code",
      "metadata": {
        "colab_type": "code",
        "id": "v3eQS4IxTiqi",
        "colab": {}
      },
      "source": [
        "import datetime\n",
        "from datetime import timedelta\n",
        "\n",
        "start_date = datetime.date.today()\n",
        "td2 = timedelta(days = 1)\n",
        "td1 = timedelta(days = 7)\n",
        "\n",
        "\n",
        "\n",
        "p = model_fit.plot_predict(start=pd.to_datetime(start_date+td2),end=pd.to_datetime(start_date+td1), dynamic=False)"
      ],
      "execution_count": 0,
      "outputs": []
    },
    {
      "cell_type": "code",
      "metadata": {
        "id": "RZ9OI_LaVtia",
        "colab_type": "code",
        "colab": {}
      },
      "source": [
        "start_date+td2"
      ],
      "execution_count": 0,
      "outputs": []
    },
    {
      "cell_type": "markdown",
      "metadata": {
        "id": "0H63Zn4TTmle",
        "colab_type": "text"
      },
      "source": [
        "Now lets forecaste data for 7 upcoming days.\n",
        "\n",
        "We will use **plot_predict** method which will also plot grapg for us along with predicting values. \n",
        "\n",
        "We are here using datetime library of python. **Start date** is set to today . Timedelta is used to do addition and substractions on date and times. Here we have declared an object td as timedelta with argument **date=7**. **start_date+td** gives us 2020-04-16+ 7 days = 2020-04-23"
      ]
    },
    {
      "cell_type": "code",
      "metadata": {
        "colab_type": "code",
        "id": "9-wmrtBoUsEg",
        "colab": {}
      },
      "source": [
        "pred = model_fit.predict(start=pd.to_datetime(start_date+td2),end=pd.to_datetime(start_date+td1), dynamic=False)\n",
        "pred"
      ],
      "execution_count": 0,
      "outputs": []
    },
    {
      "cell_type": "markdown",
      "metadata": {
        "id": "ssNnlhpyUtK1",
        "colab_type": "text"
      },
      "source": [
        "Lets have a look at our values. Only thing we have to do is fit our model with **predict** method rather than **plot_predict** method."
      ]
    },
    {
      "cell_type": "code",
      "metadata": {
        "id": "rA6xYObljxwK",
        "colab_type": "code",
        "colab": {}
      },
      "source": [
        "bar = plt.barh(pred.index,pred,animated=True,snap= True)"
      ],
      "execution_count": 0,
      "outputs": []
    },
    {
      "cell_type": "markdown",
      "metadata": {
        "id": "P3v9rO4SVPBm",
        "colab_type": "text"
      },
      "source": [
        "Now we can use the data available with us in any way we want.\n",
        "\n",
        "Here we have ploted a horizontal bar graph with our data."
      ]
    }
  ]
}